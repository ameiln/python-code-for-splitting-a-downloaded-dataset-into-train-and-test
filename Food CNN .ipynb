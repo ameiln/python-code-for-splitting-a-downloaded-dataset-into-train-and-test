{
 "cells": [
  {
   "cell_type": "code",
   "execution_count": 3,
   "metadata": {},
   "outputs": [],
   "source": [
    "#if the dataset includes the images, you can split it into train and test by the following code\n",
    "# Move data from images to images/train or images/test: \n",
    "\n",
    "import shutil\n",
    "from collections import defaultdict\n",
    "import json\n",
    "from pathlib import Path\n",
    "import os\n",
    "\n",
    "def split_dataset(root_food_path):\n",
    "    \"\"\"Takes in the path for food-101 directory and creates train/test dirs of images\"\"\"\n",
    "    data_paths = {\n",
    "        'train': root_food_path/'meta/train.json',\n",
    "        'test': root_food_path/'meta/test.json'\n",
    "    }\n",
    "    for data_type, meta_path in data_paths.items():\n",
    "        # Make the train/test dirs\n",
    "        os.makedirs(root_food_path/data_type, exist_ok=True)\n",
    "        \n",
    "        # Read the meta files. \n",
    "        # These are loaded as a dict of food names with a list of image paths\n",
    "        # E.g. {\"<food_name>\": [\"<food_name>/<image_num>\", ...], ...}\n",
    "        food_images = json.load(open(meta_path, 'r'))\n",
    "        \n",
    "        for food_name, image_paths in food_images.items():\n",
    "            # Make food dir in train/test dir\n",
    "            os.makedirs(root_food_path/data_type/food_name, exist_ok=True)\n",
    "            \n",
    "            # Move images from food-101/images to food-101/train (or test)\n",
    "            for image_path in image_paths:\n",
    "                image_path = image_path + '.jpg'\n",
    "                shutil.move(root_food_path/'images'/image_path, root_food_path/data_type/image_path)\n"
   ]
  },
  {
   "cell_type": "code",
   "execution_count": 5,
   "metadata": {},
   "outputs": [],
   "source": [
    "from pathlib import Path\n",
    "\n",
    "download_dir = Path(r'C:\\Users\\ameil\\Desktop\\food101\\food-101')\n",
    "\n",
    "split_dataset(download_dir/'food-101')\n"
   ]
  },
  {
   "cell_type": "code",
   "execution_count": null,
   "metadata": {},
   "outputs": [],
   "source": []
  },
  {
   "cell_type": "code",
   "execution_count": null,
   "metadata": {},
   "outputs": [],
   "source": []
  },
  {
   "cell_type": "code",
   "execution_count": null,
   "metadata": {},
   "outputs": [],
   "source": []
  },
  {
   "cell_type": "code",
   "execution_count": null,
   "metadata": {},
   "outputs": [],
   "source": []
  },
  {
   "cell_type": "code",
   "execution_count": null,
   "metadata": {},
   "outputs": [],
   "source": []
  }
 ],
 "metadata": {
  "kernelspec": {
   "display_name": "Python 3",
   "language": "python",
   "name": "python3"
  },
  "language_info": {
   "codemirror_mode": {
    "name": "ipython",
    "version": 3
   },
   "file_extension": ".py",
   "mimetype": "text/x-python",
   "name": "python",
   "nbconvert_exporter": "python",
   "pygments_lexer": "ipython3",
   "version": "3.8.5"
  }
 },
 "nbformat": 4,
 "nbformat_minor": 4
}
